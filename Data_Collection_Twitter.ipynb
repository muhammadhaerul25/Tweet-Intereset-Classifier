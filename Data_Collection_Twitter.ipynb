{
  "nbformat": 4,
  "nbformat_minor": 0,
  "metadata": {
    "colab": {
      "provenance": [],
      "collapsed_sections": []
    },
    "kernelspec": {
      "name": "python3",
      "display_name": "Python 3"
    },
    "language_info": {
      "name": "python"
    }
  },
  "cells": [
    {
      "cell_type": "markdown",
      "source": [
        "#**Data Collection:**"
      ],
      "metadata": {
        "id": "zCicqdvipiAn"
      }
    },
    {
      "cell_type": "code",
      "source": [
        "pip uninstall tweepy"
      ],
      "metadata": {
        "colab": {
          "base_uri": "https://localhost:8080/"
        },
        "id": "g_mdc00O_SEg",
        "outputId": "b00a37fc-56ad-4f9f-d324-2825f1562dd2"
      },
      "execution_count": 1,
      "outputs": [
        {
          "output_type": "stream",
          "name": "stdout",
          "text": [
            "Found existing installation: tweepy 3.10.0\n",
            "Uninstalling tweepy-3.10.0:\n",
            "  Would remove:\n",
            "    /usr/local/lib/python3.7/dist-packages/tweepy-3.10.0.dist-info/*\n",
            "    /usr/local/lib/python3.7/dist-packages/tweepy/*\n",
            "Proceed (y/n)? y\n",
            "  Successfully uninstalled tweepy-3.10.0\n"
          ]
        }
      ]
    },
    {
      "cell_type": "code",
      "source": [
        "pip install git+https://github.com/tweepy/tweepy.git"
      ],
      "metadata": {
        "colab": {
          "base_uri": "https://localhost:8080/"
        },
        "id": "U8rVFGwz76UK",
        "outputId": "fe18c735-3319-41b6-dce4-bc1177d4e946"
      },
      "execution_count": 2,
      "outputs": [
        {
          "output_type": "stream",
          "name": "stdout",
          "text": [
            "Looking in indexes: https://pypi.org/simple, https://us-python.pkg.dev/colab-wheels/public/simple/\n",
            "Collecting git+https://github.com/tweepy/tweepy.git\n",
            "  Cloning https://github.com/tweepy/tweepy.git to /tmp/pip-req-build-2xxd6g7w\n",
            "  Running command git clone -q https://github.com/tweepy/tweepy.git /tmp/pip-req-build-2xxd6g7w\n",
            "Requirement already satisfied: oauthlib<4,>=3.2.0 in /usr/local/lib/python3.7/dist-packages (from tweepy==4.10.1) (3.2.1)\n",
            "Collecting requests<3,>=2.27.0\n",
            "  Downloading requests-2.28.1-py3-none-any.whl (62 kB)\n",
            "\u001b[K     |████████████████████████████████| 62 kB 1.1 MB/s \n",
            "\u001b[?25hRequirement already satisfied: requests-oauthlib<2,>=1.2.0 in /usr/local/lib/python3.7/dist-packages (from tweepy==4.10.1) (1.3.1)\n",
            "Requirement already satisfied: certifi>=2017.4.17 in /usr/local/lib/python3.7/dist-packages (from requests<3,>=2.27.0->tweepy==4.10.1) (2022.9.24)\n",
            "Requirement already satisfied: idna<4,>=2.5 in /usr/local/lib/python3.7/dist-packages (from requests<3,>=2.27.0->tweepy==4.10.1) (2.10)\n",
            "Requirement already satisfied: charset-normalizer<3,>=2 in /usr/local/lib/python3.7/dist-packages (from requests<3,>=2.27.0->tweepy==4.10.1) (2.1.1)\n",
            "Requirement already satisfied: urllib3<1.27,>=1.21.1 in /usr/local/lib/python3.7/dist-packages (from requests<3,>=2.27.0->tweepy==4.10.1) (1.24.3)\n",
            "Building wheels for collected packages: tweepy\n",
            "  Building wheel for tweepy (setup.py) ... \u001b[?25l\u001b[?25hdone\n",
            "  Created wheel for tweepy: filename=tweepy-4.10.1-py3-none-any.whl size=96195 sha256=acf80a3bdc3c5eeb3a116242d1e4a13445d94b4e1cc3a6df7b7e72f9df425b3c\n",
            "  Stored in directory: /tmp/pip-ephem-wheel-cache-t55rju7f/wheels/b4/a5/5a/5074abdb9f4bd5bd0e22631a63fc41ae2fa71ad83780ea18d1\n",
            "Successfully built tweepy\n",
            "Installing collected packages: requests, tweepy\n",
            "  Attempting uninstall: requests\n",
            "    Found existing installation: requests 2.23.0\n",
            "    Uninstalling requests-2.23.0:\n",
            "      Successfully uninstalled requests-2.23.0\n",
            "Successfully installed requests-2.28.1 tweepy-4.10.1\n"
          ]
        }
      ]
    },
    {
      "cell_type": "code",
      "source": [
        "pip show tweepy"
      ],
      "metadata": {
        "colab": {
          "base_uri": "https://localhost:8080/"
        },
        "id": "SXOdJZKw73VE",
        "outputId": "44d66ab6-4d47-4109-e295-f156166383cf"
      },
      "execution_count": 3,
      "outputs": [
        {
          "output_type": "stream",
          "name": "stdout",
          "text": [
            "Name: tweepy\n",
            "Version: 4.10.1\n",
            "Summary: Twitter library for Python\n",
            "Home-page: https://www.tweepy.org/\n",
            "Author: Joshua Roesslein\n",
            "Author-email: tweepy@googlegroups.com\n",
            "License: MIT\n",
            "Location: /usr/local/lib/python3.7/dist-packages\n",
            "Requires: oauthlib, requests, requests-oauthlib\n",
            "Required-by: \n"
          ]
        }
      ]
    },
    {
      "cell_type": "code",
      "execution_count": 4,
      "metadata": {
        "id": "oNcUjZqU0Iwe"
      },
      "outputs": [],
      "source": [
        "import tweepy\n",
        "from tweepy import OAuthHandler\n",
        "import pandas as pd\n",
        "import time"
      ]
    },
    {
      "cell_type": "code",
      "source": [
        "consumer_key = \"bzxOy3Ywl7pm8BgvwYKOaK3wK\"\n",
        "consumer_secret = \"ouZx0nfDFZLgGufQjS2eQSHlQt227vx5mba2iOeED5WpQadZNI\"\n",
        "access_token = \"1567391789551878144-LCgRQEvmnkq3IuOFkQTvlIiEFTIrye\"\n",
        "access_token_secret = \"WvX0bJmLaKJeyvQwrniwo84UkySpHax7On2dAmg1tnNuj\"\n",
        "\n",
        "auth = tweepy.OAuthHandler(consumer_key, consumer_secret)\n",
        "auth.set_access_token(access_token, access_token_secret)\n",
        "api = tweepy.API(auth, wait_on_rate_limit=True)"
      ],
      "metadata": {
        "id": "Srh48fBS0RZG"
      },
      "execution_count": 5,
      "outputs": []
    },
    {
      "cell_type": "code",
      "source": [
        "# usernames = []\n",
        "\n",
        "# for i in range (0, 20):\n",
        "#   username = input()\n",
        "#   usernames.append(username)\n",
        "\n",
        "# print(usernames)"
      ],
      "metadata": {
        "id": "d2PFQuhXUcu5"
      },
      "execution_count": 6,
      "outputs": []
    },
    {
      "cell_type": "code",
      "source": [
        "bnf = [\"opensea\", \"gold_mansack\", \"LAOEconTax\", \"Forbes\", \"BW\", \n",
        "            \"WorldBank\", \"WSJ\", \"BTCTN\", \"page_binomo\", \"TheEconomist\", \n",
        "            \"TencentGlobal\", \"AlibabaGroup\", \"amazon\", \"wef\", \"Danone\", \n",
        "            \"ProcterGamble\", \"Walmart\", \"MarketWatch\", \"ShopeeSG\", \"HarvardBiz\"]\n",
        "\n",
        "culinary = ['PizzaHut', 'MasterChefUSA', 'GordonRamsay', 'BurgerKing', 'Chefbleuprint','food_Pundit',\n",
        "             'BuzzFeedFood','tasty','Sandwichrecipez','tastemade','FoodNetwork','Bonappetit',\n",
        "             'tasteofhome','CakesDecor','food_porn','WholeFoods','EatingWell','Cleaneatingnow','Pillsbury','momsdish']\n",
        "\n",
        "education = ['AliAbdaal', 'coursera', 'Kurz_Gesagt', 'Harvard', 'Stanford', 'geekymedics', 'ScienceMagazine', 'udemy', \n",
        "             'Alison_Learning', 'khanacademy', 'WorldAndScience', 'myonlinesch', 'ResearchGate', 'IEEEorg', 'sciencedirect', \n",
        "              'educationweek', 'edutopia', 'WeAreTeachers', 'duolingo', 'Grammarly']\n",
        "\n",
        "entertainment = ['Pokemon', 'Marvel', 'GenshinImpact', 'animecorner_ac', 'Disney', 'Pixar', 'taylorswift13', \n",
        "             'SEGA', 'BandaiNamcoUS', 'PlayStation', 'Xbox', 'Steam', 'EpicGames', 'NintendoAmerica', 'aniplexUSA', \n",
        "             'netflix', 'Spotify', 'JimmyFalcon', 'AGT', 'Crunchyroll']\n",
        "\n",
        "nature = ['Natgeo', 'Realtree', 'EarthPicszz', 'WWF', 'BeautyNature___',\n",
        "          'NASA', 'Marandamink', '7HOutfitters', 'HamishCumming', 'Natwalk101',\n",
        "          'AnimalPlanet', '_magical_nature', 'ExplorerIceland', 'Meowed', 'peta',\n",
        "           'Melbourne', 'TheFlowerWorld', 'Colorado', 'Cntraveller', 'GuardianTravel']\n",
        "\n",
        "politic = ['RoyalFamily', 'kremlinrussia_e', 'bbcnickrobinson', 'BarackObama', 'UN',\n",
        "           'FBI', 'WhiteHouse', 'JoeBiden', 'BBCPolitics', 'HillaryClinton', 'JohnKingCNN',\n",
        "           'BorisJohnson','trussliz', 'SadiqKhan', '10DowningStreet', 'PaulineHansonOz',\n",
        "           'MRobertsQLD', 'goodfoodgal', 'JohnRuddick2', 'daveweigel']\n",
        "\n",
        "snc = ['wonderfulid', 'PaolofromTOKYO', 'UNICEF', 'UNESCO', 'WHO',\n",
        "       'redcrossmuseum', 'boyscouts', 'Tokyo_Art_Days', 'spaincultureus',\n",
        "       'koreatourism', 'UNWTO', 'AIESEC', 'UNVolunteers', 'UN_Women',\n",
        "       'refugee_gender', 'JATATokyo', 'HISTORY', 'UNFPA', 'RedCross',\n",
        "       'Change']\n",
        "\n",
        "sport = [\"FIFAcom\", \"ChampionsLeague\", \"premierleague\", \"F1\", \"ManUtd\", \"433\",\n",
        "         \"espn\", \"NBA\", \"BleacherReport\", \"NBCSports\", \"Motorsport\", \n",
        "         \"AroundTheNFL\", \"Tennis\", \"Olympics\", \"MLBONFOX\", \"GoalNews\", \n",
        "         \"TheAthletic\", \"SkySports\", \"PGATOUR\", \"premierboxing\"]\n",
        "\n",
        "technology = ['_georgemoller', 'anniebombanie_', 'TechInsider', \n",
        "               'TechWiser', 'verge', 'TechnicalGuruji', 'SamMobiles', 'TechAmazing',\n",
        "                'GyanTherapy', 'gigadgets_', 'geeksforgeeks', 'hellomayuko', 'Vultr', \n",
        "                'TechCrunch', 'IBM', 'UTRUST', 'Base64ai', 'engadget', \n",
        "                'github', 'MetaQuestVR']\n",
        "\n",
        "other = [\"9GAG\", \"gawrgura\", \"watsonameliaEN\", \"Memeland\", \"HipDict\", \n",
        "         \"deeporderp\", \"BuzzFeedQuiz\", \"asis\", \"HuffPostLife\", \"BuzzFeeders\", \n",
        "         \"VICE\", \"VinoQuotes\", \"FreakyTheory\", \"islamicthought\", \"Buddhism_Now\", \n",
        "         \"eajPark\", \"naltsumiii\", \"LudwigAhgren\", \"LilyPichu\", \"SHAQ\"]\n",
        "\n",
        "# usernames = entertainment + education + technology + nature + snc + sport + politic + bnf + culinary +other\n",
        "# print(len(usernames))"
      ],
      "metadata": {
        "id": "BdbrIrQpPfs8"
      },
      "execution_count": 7,
      "outputs": []
    },
    {
      "cell_type": "code",
      "source": [
        "# count = 50\n",
        "# # usernames = ['Deepsoulvipan']\n",
        "\n",
        "# df_user_tweets = pd.DataFrame()\n",
        "\n",
        "# try:     \n",
        "#     # Creation of query method using appropriate parameters\n",
        "#     for username in usernames:\n",
        "#       tweets =    tweepy.Cursor(api.user_timeline, id=username, include_rts=False).items(count)\n",
        "    \n",
        "#       # Pulling information from tweets iterable object and adding relevant tweet information in our data frame\n",
        "#       for tweet in tweets:\n",
        "#           df_user_tweets = df_user_tweets.append(\n",
        "#                             {'Created at' : tweet._json['created_at'],\n",
        "#                                         'User ID': tweet._json['id'],\n",
        "#                                 'User Name': tweet.user._json['name'],\n",
        "#                                           'Tweet': tweet._json['text'],\n",
        "#                       'Description': tweet.user._json['description'],\n",
        "#                             'Location': tweet.user._json['location'],\n",
        "#               'Followers Count': tweet.user._json['followers_count'],\n",
        "#                   'Friends Count': tweet.user._json['friends_count'],\n",
        "#                 'Statuses Count': tweet.user._json['statuses_count'],\n",
        "#           'Profile Image Url': tweet.user._json['profile_image_url'],\n",
        "#           'Category': 'Business and Finance'\n",
        "#                           }, ignore_index=True)\n",
        "          \n",
        "# except BaseException as e:\n",
        "#     print('failed on_status,',str(e))\n",
        "#     time.sleep(3)\n",
        "\n",
        "# df_user_tweets.shape"
      ],
      "metadata": {
        "id": "mLEc3JrOnT_1"
      },
      "execution_count": 8,
      "outputs": []
    },
    {
      "cell_type": "code",
      "source": [
        "#Get tweet based on hastag\n",
        "\n",
        "keywords = ['#business', '#finance']\n",
        "count = 5000\n",
        "\n",
        "\n",
        "df_user_tweets = pd.DataFrame()\n",
        "\n",
        "try:     \n",
        "    # Creation of query method using appropriate parameters\n",
        "    for keyword in keywords:\n",
        "      tweets = tweepy.Cursor(api.search_tweets, q=keywords, count=100).items(count)\n",
        "    \n",
        "      # Pulling information from tweets iterable object and adding relevant tweet information in our data frame\n",
        "      for tweet in tweets:\n",
        "          df_user_tweets = df_user_tweets.append(\n",
        "                            {'Tweet': tweet._json['text'],\n",
        "                             'Category': 'Business and Finance'\n",
        "                             }, ignore_index=True)\n",
        "          \n",
        "except BaseException as e:\n",
        "    print('failed on_status,',str(e))\n",
        "    time.sleep(3)\n",
        "\n",
        "df_user_tweets.shape"
      ],
      "metadata": {
        "colab": {
          "base_uri": "https://localhost:8080/"
        },
        "id": "wozXdRiKnueb",
        "outputId": "77e4f8bf-9448-470a-f03d-b2d4d0e9eef9"
      },
      "execution_count": 43,
      "outputs": [
        {
          "metadata": {
            "tags": null
          },
          "name": "stderr",
          "output_type": "stream",
          "text": [
            "WARNING:tweepy.api:Rate limit reached. Sleeping for: 181\n"
          ]
        },
        {
          "data": {
            "text/plain": [
              "(10000, 2)"
            ]
          },
          "execution_count": 43,
          "metadata": {},
          "output_type": "execute_result"
        }
      ]
    },
    {
      "cell_type": "code",
      "source": [
        "#Get tweet based on hastag\n",
        "\n",
        "keywords = ['culinary']\n",
        "count = 10000\n",
        "\n",
        "try:     \n",
        "    # Creation of query method using appropriate parameters\n",
        "    for keyword in keywords:\n",
        "      tweets = tweepy.Cursor(api.search_tweets, q=keywords, count=100).items(count)\n",
        "    \n",
        "      # Pulling information from tweets iterable object and adding relevant tweet information in our data frame\n",
        "      for tweet in tweets:\n",
        "          df_user_tweets = df_user_tweets.append(\n",
        "                            {'Tweet': tweet._json['text'],\n",
        "                             'Category': 'Culinary'\n",
        "                             }, ignore_index=True)\n",
        "          \n",
        "except BaseException as e:\n",
        "    print('failed on_status,',str(e))\n",
        "    time.sleep(3)\n",
        "\n",
        "df_user_tweets.shape"
      ],
      "metadata": {
        "colab": {
          "base_uri": "https://localhost:8080/"
        },
        "id": "jpqM99myEq6H",
        "outputId": "8134e1ff-af79-40a0-90dc-bbce7c6d209b"
      },
      "execution_count": 41,
      "outputs": [
        {
          "output_type": "stream",
          "name": "stderr",
          "text": [
            "WARNING:tweepy.api:Rate limit reached. Sleeping for: 670\n"
          ]
        },
        {
          "output_type": "stream",
          "name": "stdout",
          "text": [
            "failed on_status, \n"
          ]
        },
        {
          "output_type": "execute_result",
          "data": {
            "text/plain": [
              "(17798, 2)"
            ]
          },
          "metadata": {},
          "execution_count": 41
        }
      ]
    },
    {
      "cell_type": "code",
      "source": [
        "pd.set_option(\"display.max_colwidth\", 1000000)\n",
        "df_user_tweets"
      ],
      "metadata": {
        "id": "0QqjUiItlRM5",
        "colab": {
          "base_uri": "https://localhost:8080/",
          "height": 423
        },
        "outputId": "0a745f49-7bca-4736-d327-6d3794ef6018"
      },
      "execution_count": 39,
      "outputs": [
        {
          "output_type": "execute_result",
          "data": {
            "text/plain": [
              "                                                                                                                                                  Tweet  \\\n",
              "0    Important Intraday Levels for Next Session\\nStock : #SRTRANSFIN\\nR3 :1221\\nR2 :1206.85\\nR1 :1192.3\\nCLOSE :1177.75\\nS1 :1… https://t.co/CX8hPetY0Q   \n",
              "1    Important Intraday Levels for Next Session\\nStock : #SRF\\nR3 :2595.67\\nR2 :2572.83\\nR1 :2556.87\\nCLOSE :2540.9\\nS1 :2518.… https://t.co/WQYPObS297   \n",
              "2          RT @dougbrownDBA: 1 High-Risk Stock to Avoid in the Current Market Environment https://t.co/1WD436YRhn #Business #Startup #Success https://…   \n",
              "3    Important Intraday Levels for Next Session\\nStock : #SIEMENS\\nR3 :2853.2\\nR2 :2828.85\\nR1 :2801.85\\nCLOSE :2774.85\\nS1 :2… https://t.co/CayIWyQq0m   \n",
              "4          RT @WelshGasDoc: Here’s an idea: Instead of clinicians writing business cases in order to meet national standards, why can’t the finance te…   \n",
              "..                                                                                                                                                  ...   \n",
              "195       Want to connect with your #PowerBI 🏭 Industry Experts &amp; Peers in #Finance, #Healthcare, #Manufacturing, #Retail,… https://t.co/9IDEBaXrrq   \n",
              "196                #insurance #lifeinsurance #ngi #nationalgeneralinsurance #medicalinsurance #insuranceagent #insurancebroker… https://t.co/ACpgll9jas   \n",
              "197        RT @WelshGasDoc: Here’s an idea: Instead of clinicians writing business cases in order to meet national standards, why can’t the finance te…   \n",
              "198  Important Intraday Levels for Next Session\\nStock : #PERSISTENT\\nR3 :3780.8\\nR2 :3682.4\\nR1 :3622.8\\nCLOSE :3563.2\\nS1 :3… https://t.co/t1hFI5rH7W   \n",
              "199     JUST IN☢️: Russian Ministry of Finance says some Russian business are using bitcoin &amp; shitcoins to skirt sanctions… https://t.co/yvUGvzWljS   \n",
              "\n",
              "                 Category  \n",
              "0    Business and Finance  \n",
              "1    Business and Finance  \n",
              "2    Business and Finance  \n",
              "3    Business and Finance  \n",
              "4    Business and Finance  \n",
              "..                    ...  \n",
              "195  Business and Finance  \n",
              "196  Business and Finance  \n",
              "197  Business and Finance  \n",
              "198  Business and Finance  \n",
              "199  Business and Finance  \n",
              "\n",
              "[200 rows x 2 columns]"
            ],
            "text/html": [
              "\n",
              "  <div id=\"df-2bb5f118-c5f3-4946-bc18-c88c84f031f7\">\n",
              "    <div class=\"colab-df-container\">\n",
              "      <div>\n",
              "<style scoped>\n",
              "    .dataframe tbody tr th:only-of-type {\n",
              "        vertical-align: middle;\n",
              "    }\n",
              "\n",
              "    .dataframe tbody tr th {\n",
              "        vertical-align: top;\n",
              "    }\n",
              "\n",
              "    .dataframe thead th {\n",
              "        text-align: right;\n",
              "    }\n",
              "</style>\n",
              "<table border=\"1\" class=\"dataframe\">\n",
              "  <thead>\n",
              "    <tr style=\"text-align: right;\">\n",
              "      <th></th>\n",
              "      <th>Tweet</th>\n",
              "      <th>Category</th>\n",
              "    </tr>\n",
              "  </thead>\n",
              "  <tbody>\n",
              "    <tr>\n",
              "      <th>0</th>\n",
              "      <td>Important Intraday Levels for Next Session\\nStock : #SRTRANSFIN\\nR3 :1221\\nR2 :1206.85\\nR1 :1192.3\\nCLOSE :1177.75\\nS1 :1… https://t.co/CX8hPetY0Q</td>\n",
              "      <td>Business and Finance</td>\n",
              "    </tr>\n",
              "    <tr>\n",
              "      <th>1</th>\n",
              "      <td>Important Intraday Levels for Next Session\\nStock : #SRF\\nR3 :2595.67\\nR2 :2572.83\\nR1 :2556.87\\nCLOSE :2540.9\\nS1 :2518.… https://t.co/WQYPObS297</td>\n",
              "      <td>Business and Finance</td>\n",
              "    </tr>\n",
              "    <tr>\n",
              "      <th>2</th>\n",
              "      <td>RT @dougbrownDBA: 1 High-Risk Stock to Avoid in the Current Market Environment https://t.co/1WD436YRhn #Business #Startup #Success https://…</td>\n",
              "      <td>Business and Finance</td>\n",
              "    </tr>\n",
              "    <tr>\n",
              "      <th>3</th>\n",
              "      <td>Important Intraday Levels for Next Session\\nStock : #SIEMENS\\nR3 :2853.2\\nR2 :2828.85\\nR1 :2801.85\\nCLOSE :2774.85\\nS1 :2… https://t.co/CayIWyQq0m</td>\n",
              "      <td>Business and Finance</td>\n",
              "    </tr>\n",
              "    <tr>\n",
              "      <th>4</th>\n",
              "      <td>RT @WelshGasDoc: Here’s an idea: Instead of clinicians writing business cases in order to meet national standards, why can’t the finance te…</td>\n",
              "      <td>Business and Finance</td>\n",
              "    </tr>\n",
              "    <tr>\n",
              "      <th>...</th>\n",
              "      <td>...</td>\n",
              "      <td>...</td>\n",
              "    </tr>\n",
              "    <tr>\n",
              "      <th>195</th>\n",
              "      <td>Want to connect with your #PowerBI 🏭 Industry Experts &amp;amp; Peers in #Finance, #Healthcare, #Manufacturing, #Retail,… https://t.co/9IDEBaXrrq</td>\n",
              "      <td>Business and Finance</td>\n",
              "    </tr>\n",
              "    <tr>\n",
              "      <th>196</th>\n",
              "      <td>#insurance #lifeinsurance #ngi #nationalgeneralinsurance #medicalinsurance #insuranceagent #insurancebroker… https://t.co/ACpgll9jas</td>\n",
              "      <td>Business and Finance</td>\n",
              "    </tr>\n",
              "    <tr>\n",
              "      <th>197</th>\n",
              "      <td>RT @WelshGasDoc: Here’s an idea: Instead of clinicians writing business cases in order to meet national standards, why can’t the finance te…</td>\n",
              "      <td>Business and Finance</td>\n",
              "    </tr>\n",
              "    <tr>\n",
              "      <th>198</th>\n",
              "      <td>Important Intraday Levels for Next Session\\nStock : #PERSISTENT\\nR3 :3780.8\\nR2 :3682.4\\nR1 :3622.8\\nCLOSE :3563.2\\nS1 :3… https://t.co/t1hFI5rH7W</td>\n",
              "      <td>Business and Finance</td>\n",
              "    </tr>\n",
              "    <tr>\n",
              "      <th>199</th>\n",
              "      <td>JUST IN☢️: Russian Ministry of Finance says some Russian business are using bitcoin &amp;amp; shitcoins to skirt sanctions… https://t.co/yvUGvzWljS</td>\n",
              "      <td>Business and Finance</td>\n",
              "    </tr>\n",
              "  </tbody>\n",
              "</table>\n",
              "<p>200 rows × 2 columns</p>\n",
              "</div>\n",
              "      <button class=\"colab-df-convert\" onclick=\"convertToInteractive('df-2bb5f118-c5f3-4946-bc18-c88c84f031f7')\"\n",
              "              title=\"Convert this dataframe to an interactive table.\"\n",
              "              style=\"display:none;\">\n",
              "        \n",
              "  <svg xmlns=\"http://www.w3.org/2000/svg\" height=\"24px\"viewBox=\"0 0 24 24\"\n",
              "       width=\"24px\">\n",
              "    <path d=\"M0 0h24v24H0V0z\" fill=\"none\"/>\n",
              "    <path d=\"M18.56 5.44l.94 2.06.94-2.06 2.06-.94-2.06-.94-.94-2.06-.94 2.06-2.06.94zm-11 1L8.5 8.5l.94-2.06 2.06-.94-2.06-.94L8.5 2.5l-.94 2.06-2.06.94zm10 10l.94 2.06.94-2.06 2.06-.94-2.06-.94-.94-2.06-.94 2.06-2.06.94z\"/><path d=\"M17.41 7.96l-1.37-1.37c-.4-.4-.92-.59-1.43-.59-.52 0-1.04.2-1.43.59L10.3 9.45l-7.72 7.72c-.78.78-.78 2.05 0 2.83L4 21.41c.39.39.9.59 1.41.59.51 0 1.02-.2 1.41-.59l7.78-7.78 2.81-2.81c.8-.78.8-2.07 0-2.86zM5.41 20L4 18.59l7.72-7.72 1.47 1.35L5.41 20z\"/>\n",
              "  </svg>\n",
              "      </button>\n",
              "      \n",
              "  <style>\n",
              "    .colab-df-container {\n",
              "      display:flex;\n",
              "      flex-wrap:wrap;\n",
              "      gap: 12px;\n",
              "    }\n",
              "\n",
              "    .colab-df-convert {\n",
              "      background-color: #E8F0FE;\n",
              "      border: none;\n",
              "      border-radius: 50%;\n",
              "      cursor: pointer;\n",
              "      display: none;\n",
              "      fill: #1967D2;\n",
              "      height: 32px;\n",
              "      padding: 0 0 0 0;\n",
              "      width: 32px;\n",
              "    }\n",
              "\n",
              "    .colab-df-convert:hover {\n",
              "      background-color: #E2EBFA;\n",
              "      box-shadow: 0px 1px 2px rgba(60, 64, 67, 0.3), 0px 1px 3px 1px rgba(60, 64, 67, 0.15);\n",
              "      fill: #174EA6;\n",
              "    }\n",
              "\n",
              "    [theme=dark] .colab-df-convert {\n",
              "      background-color: #3B4455;\n",
              "      fill: #D2E3FC;\n",
              "    }\n",
              "\n",
              "    [theme=dark] .colab-df-convert:hover {\n",
              "      background-color: #434B5C;\n",
              "      box-shadow: 0px 1px 3px 1px rgba(0, 0, 0, 0.15);\n",
              "      filter: drop-shadow(0px 1px 2px rgba(0, 0, 0, 0.3));\n",
              "      fill: #FFFFFF;\n",
              "    }\n",
              "  </style>\n",
              "\n",
              "      <script>\n",
              "        const buttonEl =\n",
              "          document.querySelector('#df-2bb5f118-c5f3-4946-bc18-c88c84f031f7 button.colab-df-convert');\n",
              "        buttonEl.style.display =\n",
              "          google.colab.kernel.accessAllowed ? 'block' : 'none';\n",
              "\n",
              "        async function convertToInteractive(key) {\n",
              "          const element = document.querySelector('#df-2bb5f118-c5f3-4946-bc18-c88c84f031f7');\n",
              "          const dataTable =\n",
              "            await google.colab.kernel.invokeFunction('convertToInteractive',\n",
              "                                                     [key], {});\n",
              "          if (!dataTable) return;\n",
              "\n",
              "          const docLinkHtml = 'Like what you see? Visit the ' +\n",
              "            '<a target=\"_blank\" href=https://colab.research.google.com/notebooks/data_table.ipynb>data table notebook</a>'\n",
              "            + ' to learn more about interactive tables.';\n",
              "          element.innerHTML = '';\n",
              "          dataTable['output_type'] = 'display_data';\n",
              "          await google.colab.output.renderOutput(dataTable, element);\n",
              "          const docLink = document.createElement('div');\n",
              "          docLink.innerHTML = docLinkHtml;\n",
              "          element.appendChild(docLink);\n",
              "        }\n",
              "      </script>\n",
              "    </div>\n",
              "  </div>\n",
              "  "
            ]
          },
          "metadata": {},
          "execution_count": 39
        }
      ]
    },
    {
      "cell_type": "code",
      "source": [
        "path = '/content/{}_twitter_posts.csv'.format('Jamesclear')\n",
        "df_user_tweets.to_csv(path, index=False)"
      ],
      "metadata": {
        "id": "pjzyqjbSlRM5"
      },
      "execution_count": 12,
      "outputs": []
    }
  ]
}